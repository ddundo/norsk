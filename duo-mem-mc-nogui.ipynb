{
 "cells": [
  {
   "cell_type": "markdown",
   "metadata": {},
   "source": [
    "# Duolingo + Memrise ordliste quiz\n",
    "\n",
    "**Lykke til!**"
   ]
  },
  {
   "cell_type": "code",
   "execution_count": 2,
   "metadata": {},
   "outputs": [
    {
     "name": "stdout",
     "output_type": "stream",
     "text": [
      "Q1. simple:\n",
      "Wrong input format. Try again.\n",
      "Wrong input format. Try again.\n",
      "Q2. Egyptian:\n",
      "Q3. have ironed:\n",
      "Q4. dirty:\n",
      "Q5. nan:\n",
      "Q6. Thank you.:\n",
      "Q7. to promise:\n",
      "Q8. an ice:\n",
      "Q9. have jumped:\n",
      "Q10. the soup:\n",
      "Your score: 3/10\n",
      "Wrong words: ['dirty', nan, 'Thank you.', 'to promise', 'an ice', 'have jumped', 'the soup']\n"
     ]
    }
   ],
   "source": [
    "import pandas as pd\n",
    "import numpy as np\n",
    "\n",
    "\n",
    "url = \"https://raw.githubusercontent.com/ddundo/norsk/main/data/duomem_dict.csv\"\n",
    "data = pd.read_csv(url, sep=\";\").sample(frac=1)\n",
    "question = data['engelsk'].to_numpy()\n",
    "correct = data['norsk'].to_numpy()\n",
    "\n",
    "_opts = [correct, np.random.permutation(correct), np.random.permutation(correct), np.random.permutation(correct)]\n",
    "options = np.squeeze(np.dstack(_opts))\n",
    "\n",
    "options = options.swapaxes(-1, -1)\n",
    "for ndx in np.ndindex(options.shape[:-1]):\n",
    "\tnp.random.shuffle(options[ndx])\n",
    "\n",
    "_ans2d = np.repeat(correct, 4).reshape(-1, 4)\n",
    "_, answer = np.where(options == _ans2d)\n",
    "\n",
    "n = 10  # NUMBER OF QUESTIONS PER QUIZ\n",
    "\n",
    "quiz_qns = question[:n]\n",
    "quiz_ans = correct[:n]\n",
    "quiz_ops = options[:n, :]\n",
    "\n",
    "correct_count = 0\n",
    "wrong_list = []\n",
    "\n",
    "for i in range(n):\n",
    "  print(f\"Q{i+1}. {quiz_qns[i]}:\")\n",
    "  while True:\n",
    "    try:\n",
    "        ans = int(input(\"\\n\".join(f\"{j+1}: {opt}\" for j, opt in enumerate(quiz_ops[i]))))\n",
    "        break\n",
    "    except ValueError:\n",
    "        print(\"Wrong input format. Try again.\")\n",
    "\n",
    "  if ans==answer[i]+1:\n",
    "    correct_count += 1\n",
    "  else:\n",
    "    wrong_list.append(quiz_qns[i])\n",
    "\n",
    "print(f\"Your score: {correct_count}/{n}\")\n",
    "print(\"Wrong words:\", wrong_list)"
   ]
  },
  {
   "cell_type": "code",
   "execution_count": null,
   "metadata": {},
   "outputs": [],
   "source": []
  }
 ],
 "metadata": {
  "interpreter": {
   "hash": "f3255eb09b9e33c076fb0872d609e23604f3a0016814a9879e58f839e8444e7c"
  },
  "kernelspec": {
   "display_name": "Python 3.10.4 ('norsk')",
   "language": "python",
   "name": "python3"
  },
  "language_info": {
   "codemirror_mode": {
    "name": "ipython",
    "version": 3
   },
   "file_extension": ".py",
   "mimetype": "text/x-python",
   "name": "python",
   "nbconvert_exporter": "python",
   "pygments_lexer": "ipython3",
   "version": "3.9.12"
  },
  "orig_nbformat": 4
 },
 "nbformat": 4,
 "nbformat_minor": 2
}
