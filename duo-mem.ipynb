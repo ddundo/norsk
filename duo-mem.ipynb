{
 "cells": [
  {
   "cell_type": "markdown",
   "metadata": {},
   "source": [
    "# Duolingo + Memrise ordliste quiz\n",
    "\n",
    "Dette er en quiz over alle ord som finnes på Duolingo og Memrise norskkurs. \n",
    "\n",
    "**Lykke til!**"
   ]
  },
  {
   "cell_type": "code",
   "execution_count": 47,
   "metadata": {},
   "outputs": [
    {
     "data": {
      "text/html": [
       "<div>\n",
       "<style scoped>\n",
       "    .dataframe tbody tr th:only-of-type {\n",
       "        vertical-align: middle;\n",
       "    }\n",
       "\n",
       "    .dataframe tbody tr th {\n",
       "        vertical-align: top;\n",
       "    }\n",
       "\n",
       "    .dataframe thead th {\n",
       "        text-align: right;\n",
       "    }\n",
       "</style>\n",
       "<table border=\"1\" class=\"dataframe\">\n",
       "  <thead>\n",
       "    <tr style=\"text-align: right;\">\n",
       "      <th></th>\n",
       "      <th>norsk</th>\n",
       "      <th>engelsk</th>\n",
       "    </tr>\n",
       "  </thead>\n",
       "  <tbody>\n",
       "    <tr>\n",
       "      <th>0</th>\n",
       "      <td>et vann</td>\n",
       "      <td>a water</td>\n",
       "    </tr>\n",
       "    <tr>\n",
       "      <th>1</th>\n",
       "      <td>en melk</td>\n",
       "      <td>a milk</td>\n",
       "    </tr>\n",
       "    <tr>\n",
       "      <th>2</th>\n",
       "      <td>den</td>\n",
       "      <td>it, that</td>\n",
       "    </tr>\n",
       "    <tr>\n",
       "      <th>3</th>\n",
       "      <td>å spise</td>\n",
       "      <td>to eat</td>\n",
       "    </tr>\n",
       "    <tr>\n",
       "      <th>4</th>\n",
       "      <td>mannen</td>\n",
       "      <td>the man</td>\n",
       "    </tr>\n",
       "    <tr>\n",
       "      <th>...</th>\n",
       "      <td>...</td>\n",
       "      <td>...</td>\n",
       "    </tr>\n",
       "    <tr>\n",
       "      <th>2372</th>\n",
       "      <td>en kølle</td>\n",
       "      <td>a stick, club</td>\n",
       "    </tr>\n",
       "    <tr>\n",
       "      <th>2373</th>\n",
       "      <td>å dykke</td>\n",
       "      <td>to dive</td>\n",
       "    </tr>\n",
       "    <tr>\n",
       "      <th>2374</th>\n",
       "      <td>et brettspill</td>\n",
       "      <td>a board game</td>\n",
       "    </tr>\n",
       "    <tr>\n",
       "      <th>2375</th>\n",
       "      <td>sjakk</td>\n",
       "      <td>chess</td>\n",
       "    </tr>\n",
       "    <tr>\n",
       "      <th>2376</th>\n",
       "      <td>å kaste opp</td>\n",
       "      <td>to throw up, vomit</td>\n",
       "    </tr>\n",
       "  </tbody>\n",
       "</table>\n",
       "<p>2377 rows × 2 columns</p>\n",
       "</div>"
      ],
      "text/plain": [
       "              norsk             engelsk\n",
       "0           et vann             a water\n",
       "1           en melk              a milk\n",
       "2               den            it, that\n",
       "3           å spise              to eat\n",
       "4            mannen             the man\n",
       "...             ...                 ...\n",
       "2372       en kølle       a stick, club\n",
       "2373        å dykke             to dive\n",
       "2374  et brettspill        a board game\n",
       "2375          sjakk               chess\n",
       "2376    å kaste opp  to throw up, vomit\n",
       "\n",
       "[2377 rows x 2 columns]"
      ]
     },
     "execution_count": 47,
     "metadata": {},
     "output_type": "execute_result"
    }
   ],
   "source": [
    "import pandas as pd\n",
    "\n",
    "url = \"https://raw.githubusercontent.com/ddundo/norsk/main/data/duomem_dict.csv\"\n",
    "data = pd.read_csv(url, sep=\";\")\n",
    "data"
   ]
  },
  {
   "cell_type": "code",
   "execution_count": 51,
   "metadata": {},
   "outputs": [],
   "source": [
    "class Quiz:\n",
    "  def __init__(self, verb_data, n):\n",
    "    self.df_qns = verb_data.sample(frac=1).head(n)\n",
    "\n",
    "    self.df_ans = pd.DataFrame().reindex_like(self.df_qns).astype(str)\n",
    "    self.df_eq = pd.DataFrame().reindex_like(self.df_qns).astype(str)\n",
    "\n",
    "  def start(self):\n",
    "    for index, row in self.df_qns.iterrows():\n",
    "      answer = input(f\"{row['engelsk']}: \")\n",
    "      self.df_ans.at[index, 'norsk'] = answer\n",
    "\n",
    "    self.analyse()\n",
    "\n",
    "  def analyse(self):\n",
    "    def _apply_color(x):\n",
    "      colors = {True: 'green', False: 'red'}\n",
    "      return self.df_eq.applymap(lambda val: 'background-color: {}'.format(colors.get(val,'')))\n",
    "    \n",
    "    self.df_eq = self.df_ans.eq(self.df_qns)\n",
    "    self.df_eq['engelsk'] = pd.NA\n",
    "    self.df_comp = self.df_qns.compare(self.df_ans, keep_shape=True, keep_equal=True).rename(columns={'self': 'correct', 'other': 'your answer'}, level=-1)['norsk']\n",
    "    self.df_comp['engelsk'] = self.df_qns['engelsk']\n",
    "    self.df_results = self.df_qns.style.apply(_apply_color, axis=None)"
   ]
  },
  {
   "cell_type": "code",
   "execution_count": 52,
   "metadata": {},
   "outputs": [],
   "source": [
    "n = 1  # number of verbs in quiz\n",
    "quiz = Quiz(data, n)\n",
    "quiz.start()"
   ]
  },
  {
   "cell_type": "code",
   "execution_count": 53,
   "metadata": {},
   "outputs": [
    {
     "data": {
      "text/html": [
       "<style type=\"text/css\">\n",
       "#T_b3807_row0_col0 {\n",
       "  background-color: green;\n",
       "}\n",
       "#T_b3807_row0_col1 {\n",
       "  background-color: ;\n",
       "}\n",
       "</style>\n",
       "<table id=\"T_b3807\">\n",
       "  <thead>\n",
       "    <tr>\n",
       "      <th class=\"blank level0\" >&nbsp;</th>\n",
       "      <th id=\"T_b3807_level0_col0\" class=\"col_heading level0 col0\" >norsk</th>\n",
       "      <th id=\"T_b3807_level0_col1\" class=\"col_heading level0 col1\" >engelsk</th>\n",
       "    </tr>\n",
       "  </thead>\n",
       "  <tbody>\n",
       "    <tr>\n",
       "      <th id=\"T_b3807_level0_row0\" class=\"row_heading level0 row0\" >1129</th>\n",
       "      <td id=\"T_b3807_row0_col0\" class=\"data row0 col0\" >legg til</td>\n",
       "      <td id=\"T_b3807_row0_col1\" class=\"data row0 col1\" >add</td>\n",
       "    </tr>\n",
       "  </tbody>\n",
       "</table>\n"
      ],
      "text/plain": [
       "<pandas.io.formats.style.Styler at 0x7f8eab458490>"
      ]
     },
     "execution_count": 53,
     "metadata": {},
     "output_type": "execute_result"
    }
   ],
   "source": [
    "quiz.df_results  # df with correct (green) and wrong (red) answers"
   ]
  },
  {
   "cell_type": "code",
   "execution_count": 54,
   "metadata": {},
   "outputs": [
    {
     "data": {
      "text/html": [
       "<div>\n",
       "<style scoped>\n",
       "    .dataframe tbody tr th:only-of-type {\n",
       "        vertical-align: middle;\n",
       "    }\n",
       "\n",
       "    .dataframe tbody tr th {\n",
       "        vertical-align: top;\n",
       "    }\n",
       "\n",
       "    .dataframe thead th {\n",
       "        text-align: right;\n",
       "    }\n",
       "</style>\n",
       "<table border=\"1\" class=\"dataframe\">\n",
       "  <thead>\n",
       "    <tr style=\"text-align: right;\">\n",
       "      <th></th>\n",
       "      <th>correct</th>\n",
       "      <th>your answer</th>\n",
       "      <th>engelsk</th>\n",
       "    </tr>\n",
       "  </thead>\n",
       "  <tbody>\n",
       "    <tr>\n",
       "      <th>1129</th>\n",
       "      <td>legg til</td>\n",
       "      <td>legg til</td>\n",
       "      <td>add</td>\n",
       "    </tr>\n",
       "  </tbody>\n",
       "</table>\n",
       "</div>"
      ],
      "text/plain": [
       "       correct your answer engelsk\n",
       "1129  legg til    legg til     add"
      ]
     },
     "execution_count": 54,
     "metadata": {},
     "output_type": "execute_result"
    }
   ],
   "source": [
    "quiz.df_comp  # overview of correct and your answers"
   ]
  },
  {
   "cell_type": "code",
   "execution_count": null,
   "metadata": {},
   "outputs": [],
   "source": []
  }
 ],
 "metadata": {
  "interpreter": {
   "hash": "f3255eb09b9e33c076fb0872d609e23604f3a0016814a9879e58f839e8444e7c"
  },
  "kernelspec": {
   "display_name": "Python 3.10.4 ('norsk')",
   "language": "python",
   "name": "python3"
  },
  "language_info": {
   "codemirror_mode": {
    "name": "ipython",
    "version": 3
   },
   "file_extension": ".py",
   "mimetype": "text/x-python",
   "name": "python",
   "nbconvert_exporter": "python",
   "pygments_lexer": "ipython3",
   "version": "3.9.12"
  },
  "orig_nbformat": 4
 },
 "nbformat": 4,
 "nbformat_minor": 2
}
